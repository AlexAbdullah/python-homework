{
 "cells": [
  {
   "cell_type": "code",
   "execution_count": 1,
   "id": "c719e225-817b-4fd4-a2d3-5949e104896d",
   "metadata": {},
   "outputs": [],
   "source": [
    "# Import CSV data \n",
    "\n",
    "from pathlib import Path\n",
    "import csv\n",
    "\n",
    "# Set the file path \n",
    "\n",
    "budget_csvpath = Path('../PyBank/budget_data.csv')"
   ]
  },
  {
   "cell_type": "code",
   "execution_count": 2,
   "id": "8e190c4f-5ef9-4171-bc68-c573f3edfcd4",
   "metadata": {},
   "outputs": [],
   "source": [
    "# Initialize variables\n",
    "\n",
    "total_months = 0 \n",
    "total = 0 \n",
    "average_change_profit_loss = 0\n",
    "greatest_increase_profits = 0\n",
    "greatest_decrease_profits = 0\n",
    "net_change_list = []"
   ]
  },
  {
   "cell_type": "code",
   "execution_count": 3,
   "id": "ac0700c3-cf04-4818-92d3-2df6f702cf4b",
   "metadata": {},
   "outputs": [
    {
     "name": "stdout",
     "output_type": "stream",
     "text": [
      "Financial Analysis\n",
      "----------------------\n",
      "Total Months: 85\n",
      "Total: $37514694\n",
      "-2315.1176470588234\n"
     ]
    }
   ],
   "source": [
    "# Open the file in \"read\" mode ('r') and\n",
    "# store the contents in the variable 'file'\n",
    "with open(budget_csvpath, 'r') as csvfile:\n",
    "\n",
    "    # @TODO:\n",
    "    # Pass in the csv file to the csv.reader() function\n",
    "    # (with ',' as the delmiter/separator) and return the csvreader object\n",
    "    csvreader = csv.reader(csvfile, delimiter=',')\n",
    "    csv_header = next(csvreader)\n",
    "    first_row = next(csvreader)\n",
    "    prev_net = int(first_row[1])\n",
    "    net_change_list = []\n",
    "    \n",
    "    \n",
    "\n",
    "    for row in csvreader:\n",
    "        sum_total = int(float(row[1]))\n",
    "        net_change = int(row[1]) - prev_net\n",
    "        total_months += 1\n",
    "        total += sum_total\n",
    "\n",
    "    net_change_list = net_change_list + [net_change]\n",
    "    \n",
    "        \n",
    " \n",
    "    print(f\"Financial Analysis\")\n",
    "    print(\"----------------------\")\n",
    "    print(f\"Total Months: {total_months}\")\n",
    "    print(f\"Total: ${total}\")\n",
    "    print(net_change / total_months)\n",
    "    # print(\"-----------------------\")"
   ]
  }
 ],
 "metadata": {
  "kernelspec": {
   "display_name": "Python 3 (ipykernel)",
   "language": "python",
   "name": "python3"
  },
  "language_info": {
   "codemirror_mode": {
    "name": "ipython",
    "version": 3
   },
   "file_extension": ".py",
   "mimetype": "text/x-python",
   "name": "python",
   "nbconvert_exporter": "python",
   "pygments_lexer": "ipython3",
   "version": "3.7.11"
  }
 },
 "nbformat": 4,
 "nbformat_minor": 5
}
